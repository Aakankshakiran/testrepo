{
 "cells": [
  {
   "cell_type": "markdown",
   "id": "7de0dbcb-5cac-46a4-b20a-32c1d2ee4af1",
   "metadata": {},
   "source": [
    "# DataScienceEcosystem"
   ]
  },
  {
   "cell_type": "markdown",
   "id": "988f60fd-9b0c-4bf5-bcfc-4bcb980cea38",
   "metadata": {},
   "source": [
    "## In this notebook, Data Science Tools and Ecosystem are summarized."
   ]
  },
  {
   "cell_type": "markdown",
   "id": "55363baf-071f-49ff-839e-bbe54b4feb2a",
   "metadata": {},
   "source": [
    "### Some of the popular languages that Data Scientists use are:\n",
    "1. Python\n",
    "2. R\n",
    "3. SQL\n",
    "4. Java\n",
    "\n"
   ]
  },
  {
   "cell_type": "markdown",
   "id": "d39022f8-0a67-4b80-9280-499df8a63b85",
   "metadata": {},
   "source": [
    "### Some of the commonly used libraries used by Data Scientists include:\n",
    "1. Tensorflow\n",
    "2. Pytorch\n",
    "3. Scikit-learn"
   ]
  },
  {
   "cell_type": "markdown",
   "id": "1b548f32-8d19-47d2-95e5-85de82bfebee",
   "metadata": {},
   "source": [
    "|DataScience Tools|\n",
    "|------------------\n",
    "|Github           |\n",
    "|Jupyter Notebook |\n",
    "|RStudio          |"
   ]
  },
  {
   "cell_type": "markdown",
   "id": "522f362e-e652-401f-815a-8e03d04c94ff",
   "metadata": {},
   "source": [
    "### Below are a few examples of evaluating arithmetic expressions in Python\n",
    "1. a+b\n",
    "2. a-b\n",
    "3. a*b\n",
    "4. a/b"
   ]
  },
  {
   "cell_type": "code",
   "execution_count": 1,
   "id": "daeb11d8-d912-4699-b605-6f2481f34527",
   "metadata": {},
   "outputs": [
    {
     "name": "stdout",
     "output_type": "stream",
     "text": [
      "17\n"
     ]
    }
   ],
   "source": [
    "#This a simple arithmetic expression to mutiply then add integers\n",
    "result=(3*4)+5\n",
    "print(result)"
   ]
  },
  {
   "cell_type": "code",
   "execution_count": 2,
   "id": "ad8c61df-6abf-44a1-8a41-1190341dca4e",
   "metadata": {},
   "outputs": [
    {
     "name": "stdout",
     "output_type": "stream",
     "text": [
      "3.3333333333333335\n"
     ]
    }
   ],
   "source": [
    "#This will convert 200 minutes to hours by diving by 60\n",
    "hours=200/60\n",
    "print(hours)"
   ]
  },
  {
   "cell_type": "markdown",
   "id": "d4960319-2ce4-41e6-b0f2-d052296db6c4",
   "metadata": {},
   "source": [
    "**Objectives :**\n",
    "- List popular languages for Data Science\n",
    "- simple arithmetic expression to mutiply then add integers\n",
    "- List commonly used libraries by Data Scientists "
   ]
  },
  {
   "cell_type": "markdown",
   "id": "cface63e-a854-4650-9c1b-5c066a816f64",
   "metadata": {},
   "source": [
    "## Author\n",
    "\n",
    "Aakanksha Awar"
   ]
  },
  {
   "cell_type": "code",
   "execution_count": null,
   "id": "c0150174-86ac-4505-9e8e-4f6893fa27f5",
   "metadata": {},
   "outputs": [],
   "source": []
  }
 ],
 "metadata": {
  "kernelspec": {
   "display_name": "Python",
   "language": "python",
   "name": "conda-env-python-py"
  },
  "language_info": {
   "codemirror_mode": {
    "name": "ipython",
    "version": 3
   },
   "file_extension": ".py",
   "mimetype": "text/x-python",
   "name": "python",
   "nbconvert_exporter": "python",
   "pygments_lexer": "ipython3",
   "version": "3.7.12"
  }
 },
 "nbformat": 4,
 "nbformat_minor": 5
}
